{
 "cells": [
  {
   "cell_type": "code",
   "execution_count": 2,
   "id": "98137cd0",
   "metadata": {},
   "outputs": [],
   "source": [
    "import numpy as np\n",
    "import pandas as pd\n",
    "from numpy.random import randn"
   ]
  },
  {
   "cell_type": "code",
   "execution_count": 4,
   "id": "b2dda24a",
   "metadata": {},
   "outputs": [],
   "source": [
    "np.random.seed(100) #to generate the same random numbers."
   ]
  },
  {
   "cell_type": "code",
   "execution_count": 8,
   "id": "4197983a",
   "metadata": {},
   "outputs": [
    {
     "data": {
      "text/plain": [
       "10    1.189622\n",
       "9    -1.690617\n",
       "8    -1.356399\n",
       "7    -1.232435\n",
       "6    -0.544439\n",
       "5    -0.668172\n",
       "4     0.007315\n",
       "3    -0.612939\n",
       "2     1.299748\n",
       "1    -1.733096\n",
       "dtype: float64"
      ]
     },
     "execution_count": 8,
     "metadata": {},
     "output_type": "execute_result"
    }
   ],
   "source": [
    "ser = pd.Series(randn(10),[10,9,8,7,6,5,4,3,2,1])\n",
    "ser"
   ]
  },
  {
   "cell_type": "code",
   "execution_count": 10,
   "id": "e3003690",
   "metadata": {},
   "outputs": [
    {
     "data": {
      "text/plain": [
       "array([-0.86222735,  1.24946974, -0.07961125, -0.88973148, -0.88179839,\n",
       "        0.01863895,  0.23784462,  0.01354855, -1.6355294 , -1.04420988])"
      ]
     },
     "execution_count": 10,
     "metadata": {},
     "output_type": "execute_result"
    }
   ],
   "source": [
    "arr = np.array(randn(10))\n",
    "arr"
   ]
  },
  {
   "cell_type": "code",
   "execution_count": 12,
   "id": "01d59423",
   "metadata": {},
   "outputs": [
    {
     "data": {
      "text/plain": [
       "0   -0.862227\n",
       "1    1.249470\n",
       "2   -0.079611\n",
       "3   -0.889731\n",
       "4   -0.881798\n",
       "5    0.018639\n",
       "6    0.237845\n",
       "7    0.013549\n",
       "8   -1.635529\n",
       "9   -1.044210\n",
       "dtype: float64"
      ]
     },
     "execution_count": 12,
     "metadata": {},
     "output_type": "execute_result"
    }
   ],
   "source": [
    "ser_arr = pd.Series(data = arr)\n",
    "ser_arr"
   ]
  },
  {
   "cell_type": "code",
   "execution_count": 17,
   "id": "f741540f",
   "metadata": {},
   "outputs": [],
   "source": [
    "#pandas series can hold even functions. \n",
    "ser2 = pd.Series(data=[enumerate, map, filter, range])"
   ]
  },
  {
   "cell_type": "code",
   "execution_count": 19,
   "id": "7067d68f",
   "metadata": {},
   "outputs": [
    {
     "data": {
      "text/plain": [
       "enumerate    <class 'enumerate'>\n",
       "map                <class 'map'>\n",
       "filter          <class 'filter'>\n",
       "range            <class 'range'>\n",
       "dtype: object"
      ]
     },
     "execution_count": 19,
     "metadata": {},
     "output_type": "execute_result"
    }
   ],
   "source": [
    "series_index = ['enumerate','map','filter','range']\n",
    "ser2.index = series_index\n",
    "ser2"
   ]
  },
  {
   "cell_type": "code",
   "execution_count": 20,
   "id": "47ec112e",
   "metadata": {},
   "outputs": [
    {
     "data": {
      "text/plain": [
       "1            NaN\n",
       "2            NaN\n",
       "3            NaN\n",
       "4            NaN\n",
       "5            NaN\n",
       "6            NaN\n",
       "7            NaN\n",
       "8            NaN\n",
       "9            NaN\n",
       "10           NaN\n",
       "enumerate    NaN\n",
       "filter       NaN\n",
       "map          NaN\n",
       "range        NaN\n",
       "dtype: object"
      ]
     },
     "execution_count": 20,
     "metadata": {},
     "output_type": "execute_result"
    }
   ],
   "source": [
    "ser + ser2"
   ]
  },
  {
   "cell_type": "code",
   "execution_count": 26,
   "id": "dec08a29",
   "metadata": {},
   "outputs": [
    {
     "data": {
      "text/plain": [
       "enumerate    <class 'enumerate'>\n",
       "map                            4\n",
       "filter          <class 'filter'>\n",
       "range            <class 'range'>\n",
       "dtype: object"
      ]
     },
     "execution_count": 26,
     "metadata": {},
     "output_type": "execute_result"
    }
   ],
   "source": [
    "ser2[1] = 4; ser2"
   ]
  },
  {
   "cell_type": "code",
   "execution_count": 30,
   "id": "6b23148a",
   "metadata": {},
   "outputs": [
    {
     "data": {
      "text/plain": [
       "'filter'"
      ]
     },
     "execution_count": 30,
     "metadata": {},
     "output_type": "execute_result"
    }
   ],
   "source": [
    "ser2.index[2]"
   ]
  },
  {
   "cell_type": "code",
   "execution_count": 33,
   "id": "9c590926",
   "metadata": {},
   "outputs": [
    {
     "ename": "TypeError",
     "evalue": "Index does not support mutable operations",
     "output_type": "error",
     "traceback": [
      "\u001b[1;31m---------------------------------------------------------------------------\u001b[0m",
      "\u001b[1;31mTypeError\u001b[0m                                 Traceback (most recent call last)",
      "Cell \u001b[1;32mIn[33], line 1\u001b[0m\n\u001b[1;32m----> 1\u001b[0m ser\u001b[38;5;241m.\u001b[39mindex[\u001b[38;5;241m5\u001b[39m:\u001b[38;5;241m8\u001b[39m] \u001b[38;5;241m=\u001b[39m series_index\n",
      "File \u001b[1;32m~\\AppData\\Local\\anaconda3\\Lib\\site-packages\\pandas\\core\\indexes\\base.py:5157\u001b[0m, in \u001b[0;36mIndex.__setitem__\u001b[1;34m(self, key, value)\u001b[0m\n\u001b[0;32m   5155\u001b[0m \u001b[38;5;129m@final\u001b[39m\n\u001b[0;32m   5156\u001b[0m \u001b[38;5;28;01mdef\u001b[39;00m \u001b[38;5;21m__setitem__\u001b[39m(\u001b[38;5;28mself\u001b[39m, key, value):\n\u001b[1;32m-> 5157\u001b[0m     \u001b[38;5;28;01mraise\u001b[39;00m \u001b[38;5;167;01mTypeError\u001b[39;00m(\u001b[38;5;124m\"\u001b[39m\u001b[38;5;124mIndex does not support mutable operations\u001b[39m\u001b[38;5;124m\"\u001b[39m)\n",
      "\u001b[1;31mTypeError\u001b[0m: Index does not support mutable operations"
     ]
    }
   ],
   "source": [
    "ser.index[5:8] = series_index "
   ]
  },
  {
   "cell_type": "code",
   "execution_count": 39,
   "id": "e7cc10df",
   "metadata": {},
   "outputs": [
    {
     "data": {
      "text/plain": [
       "10    1.189622\n",
       "9    -1.690617\n",
       "8    -1.356399\n",
       "7    -1.232435\n",
       "6    -0.544439\n",
       "5    -0.668172\n",
       "4     0.007315\n",
       "3    -0.612939\n",
       "2     1.299748\n",
       "1    -1.733096\n",
       "Name: (filter, map, enumerate, range, 5, 6, 7, 8, 9), dtype: float64"
      ]
     },
     "execution_count": 39,
     "metadata": {},
     "output_type": "execute_result"
    }
   ],
   "source": [
    "ser.rename(index=('filter','map','enumerate','range',5,6,7,8,9))"
   ]
  },
  {
   "cell_type": "markdown",
   "id": "efd74580",
   "metadata": {},
   "source": [
    "### DATAFRAMES Review"
   ]
  },
  {
   "cell_type": "code",
   "execution_count": 61,
   "id": "f40bf2c6",
   "metadata": {},
   "outputs": [
    {
     "data": {
      "text/html": [
       "<div>\n",
       "<style scoped>\n",
       "    .dataframe tbody tr th:only-of-type {\n",
       "        vertical-align: middle;\n",
       "    }\n",
       "\n",
       "    .dataframe tbody tr th {\n",
       "        vertical-align: top;\n",
       "    }\n",
       "\n",
       "    .dataframe thead th {\n",
       "        text-align: right;\n",
       "    }\n",
       "</style>\n",
       "<table border=\"1\" class=\"dataframe\">\n",
       "  <thead>\n",
       "    <tr style=\"text-align: right;\">\n",
       "      <th></th>\n",
       "      <th>love</th>\n",
       "      <th>hate</th>\n",
       "    </tr>\n",
       "  </thead>\n",
       "  <tbody>\n",
       "    <tr>\n",
       "      <th>function</th>\n",
       "      <td>0.580573</td>\n",
       "      <td>-1.104523</td>\n",
       "    </tr>\n",
       "    <tr>\n",
       "      <th>method</th>\n",
       "      <td>0.690121</td>\n",
       "      <td>0.686890</td>\n",
       "    </tr>\n",
       "  </tbody>\n",
       "</table>\n",
       "</div>"
      ],
      "text/plain": [
       "              love      hate\n",
       "function  0.580573 -1.104523\n",
       "method    0.690121  0.686890"
      ]
     },
     "execution_count": 61,
     "metadata": {},
     "output_type": "execute_result"
    }
   ],
   "source": [
    "df = pd.DataFrame(data = randn(2,2), columns=['love','hate'],index=['function','method'])\n",
    "df"
   ]
  },
  {
   "cell_type": "code",
   "execution_count": 62,
   "id": "d7c3f42c",
   "metadata": {},
   "outputs": [
    {
     "data": {
      "text/plain": [
       "function   -1.104523\n",
       "method      0.686890\n",
       "Name: hate, dtype: float64"
      ]
     },
     "execution_count": 62,
     "metadata": {},
     "output_type": "execute_result"
    }
   ],
   "source": [
    "#Index selecting\n",
    "df['hate']"
   ]
  },
  {
   "cell_type": "code",
   "execution_count": 65,
   "id": "02818c0c",
   "metadata": {},
   "outputs": [
    {
     "data": {
      "text/plain": [
       "love    0.690121\n",
       "hate    0.686890\n",
       "Name: method, dtype: float64"
      ]
     },
     "execution_count": 65,
     "metadata": {},
     "output_type": "execute_result"
    }
   ],
   "source": [
    "#remember the loc and iloc. I think they are index based properties. \n",
    "df.loc['method']"
   ]
  },
  {
   "cell_type": "code",
   "execution_count": 72,
   "id": "0854aa3d",
   "metadata": {},
   "outputs": [
    {
     "data": {
      "text/html": [
       "<div>\n",
       "<style scoped>\n",
       "    .dataframe tbody tr th:only-of-type {\n",
       "        vertical-align: middle;\n",
       "    }\n",
       "\n",
       "    .dataframe tbody tr th {\n",
       "        vertical-align: top;\n",
       "    }\n",
       "\n",
       "    .dataframe thead th {\n",
       "        text-align: right;\n",
       "    }\n",
       "</style>\n",
       "<table border=\"1\" class=\"dataframe\">\n",
       "  <thead>\n",
       "    <tr style=\"text-align: right;\">\n",
       "      <th></th>\n",
       "      <th>love</th>\n",
       "      <th>hate</th>\n",
       "    </tr>\n",
       "  </thead>\n",
       "  <tbody>\n",
       "    <tr>\n",
       "      <th>function</th>\n",
       "      <td>0.580573</td>\n",
       "      <td>-1.104523</td>\n",
       "    </tr>\n",
       "    <tr>\n",
       "      <th>method</th>\n",
       "      <td>0.690121</td>\n",
       "      <td>0.686890</td>\n",
       "    </tr>\n",
       "  </tbody>\n",
       "</table>\n",
       "</div>"
      ],
      "text/plain": [
       "              love      hate\n",
       "function  0.580573 -1.104523\n",
       "method    0.690121  0.686890"
      ]
     },
     "execution_count": 72,
     "metadata": {},
     "output_type": "execute_result"
    }
   ],
   "source": [
    "df.iloc[[0,1]]"
   ]
  },
  {
   "cell_type": "code",
   "execution_count": 76,
   "id": "6ec4971f",
   "metadata": {},
   "outputs": [
    {
     "data": {
      "text/html": [
       "<div>\n",
       "<style scoped>\n",
       "    .dataframe tbody tr th:only-of-type {\n",
       "        vertical-align: middle;\n",
       "    }\n",
       "\n",
       "    .dataframe tbody tr th {\n",
       "        vertical-align: top;\n",
       "    }\n",
       "\n",
       "    .dataframe thead th {\n",
       "        text-align: right;\n",
       "    }\n",
       "</style>\n",
       "<table border=\"1\" class=\"dataframe\">\n",
       "  <thead>\n",
       "    <tr style=\"text-align: right;\">\n",
       "      <th></th>\n",
       "      <th>love</th>\n",
       "      <th>hate</th>\n",
       "      <th>shame</th>\n",
       "      <th>joy</th>\n",
       "    </tr>\n",
       "  </thead>\n",
       "  <tbody>\n",
       "    <tr>\n",
       "      <th>function</th>\n",
       "      <td>0.580573</td>\n",
       "      <td>-1.104523</td>\n",
       "      <td>-0.523950</td>\n",
       "      <td>0.778822</td>\n",
       "    </tr>\n",
       "    <tr>\n",
       "      <th>method</th>\n",
       "      <td>0.690121</td>\n",
       "      <td>0.686890</td>\n",
       "      <td>1.377012</td>\n",
       "      <td>0.428233</td>\n",
       "    </tr>\n",
       "  </tbody>\n",
       "</table>\n",
       "</div>"
      ],
      "text/plain": [
       "              love      hate     shame       joy\n",
       "function  0.580573 -1.104523 -0.523950  0.778822\n",
       "method    0.690121  0.686890  1.377012  0.428233"
      ]
     },
     "execution_count": 76,
     "metadata": {},
     "output_type": "execute_result"
    }
   ],
   "source": [
    "# lets add new column to the df\n",
    "df['shame'] = df['love'] + df['hate']\n",
    "df['joy'] = randn(2)\n",
    "df"
   ]
  },
  {
   "cell_type": "code",
   "execution_count": 77,
   "id": "1cc9bd6d",
   "metadata": {},
   "outputs": [
    {
     "data": {
      "text/html": [
       "<div>\n",
       "<style scoped>\n",
       "    .dataframe tbody tr th:only-of-type {\n",
       "        vertical-align: middle;\n",
       "    }\n",
       "\n",
       "    .dataframe tbody tr th {\n",
       "        vertical-align: top;\n",
       "    }\n",
       "\n",
       "    .dataframe thead th {\n",
       "        text-align: right;\n",
       "    }\n",
       "</style>\n",
       "<table border=\"1\" class=\"dataframe\">\n",
       "  <thead>\n",
       "    <tr style=\"text-align: right;\">\n",
       "      <th></th>\n",
       "      <th>love</th>\n",
       "      <th>joy</th>\n",
       "    </tr>\n",
       "  </thead>\n",
       "  <tbody>\n",
       "    <tr>\n",
       "      <th>method</th>\n",
       "      <td>0.690121</td>\n",
       "      <td>0.428233</td>\n",
       "    </tr>\n",
       "  </tbody>\n",
       "</table>\n",
       "</div>"
      ],
      "text/plain": [
       "            love       joy\n",
       "method  0.690121  0.428233"
      ]
     },
     "execution_count": 77,
     "metadata": {},
     "output_type": "execute_result"
    }
   ],
   "source": [
    "#I only want love and joy in method lets see. \n",
    "df.loc[['method'],['love','joy']]"
   ]
  },
  {
   "cell_type": "code",
   "execution_count": 114,
   "id": "b414abc7",
   "metadata": {},
   "outputs": [
    {
     "name": "stdout",
     "output_type": "stream",
     "text": [
      "<class 'pandas.core.series.Series'>\n",
      "\n",
      "love     0.690121\n",
      "hate     0.686890\n",
      "shame    1.377012\n",
      "joy      0.428233\n",
      "Name: method, dtype: float64\n"
     ]
    }
   ],
   "source": [
    "#Not I want to see function Hate and Shame by iloc\n",
    "df_func = df.iloc[0]\n",
    "print(type(df_func), df_func, sep='\\n\\n')"
   ]
  },
  {
   "cell_type": "markdown",
   "id": "3a3bd35a",
   "metadata": {},
   "source": [
    "#### [[<...>]] is a DataFrame, [<...>] is a Series"
   ]
  },
  {
   "cell_type": "code",
   "execution_count": 115,
   "id": "8845ab0a",
   "metadata": {},
   "outputs": [
    {
     "data": {
      "text/html": [
       "<div>\n",
       "<style scoped>\n",
       "    .dataframe tbody tr th:only-of-type {\n",
       "        vertical-align: middle;\n",
       "    }\n",
       "\n",
       "    .dataframe tbody tr th {\n",
       "        vertical-align: top;\n",
       "    }\n",
       "\n",
       "    .dataframe thead th {\n",
       "        text-align: right;\n",
       "    }\n",
       "</style>\n",
       "<table border=\"1\" class=\"dataframe\">\n",
       "  <thead>\n",
       "    <tr style=\"text-align: right;\">\n",
       "      <th></th>\n",
       "      <th>love</th>\n",
       "      <th>hate</th>\n",
       "      <th>shame</th>\n",
       "      <th>joy</th>\n",
       "    </tr>\n",
       "  </thead>\n",
       "  <tbody>\n",
       "    <tr>\n",
       "      <th>method</th>\n",
       "      <td>0.690121</td>\n",
       "      <td>0.68689</td>\n",
       "      <td>1.377012</td>\n",
       "      <td>0.428233</td>\n",
       "    </tr>\n",
       "  </tbody>\n",
       "</table>\n",
       "</div>"
      ],
      "text/plain": [
       "            love     hate     shame       joy\n",
       "method  0.690121  0.68689  1.377012  0.428233"
      ]
     },
     "execution_count": 115,
     "metadata": {},
     "output_type": "execute_result"
    }
   ],
   "source": [
    "#now use drop function \n",
    "df.drop(labels='function')"
   ]
  },
  {
   "cell_type": "code",
   "execution_count": 116,
   "id": "b3c415a8",
   "metadata": {},
   "outputs": [
    {
     "data": {
      "text/html": [
       "<div>\n",
       "<style scoped>\n",
       "    .dataframe tbody tr th:only-of-type {\n",
       "        vertical-align: middle;\n",
       "    }\n",
       "\n",
       "    .dataframe tbody tr th {\n",
       "        vertical-align: top;\n",
       "    }\n",
       "\n",
       "    .dataframe thead th {\n",
       "        text-align: right;\n",
       "    }\n",
       "</style>\n",
       "<table border=\"1\" class=\"dataframe\">\n",
       "  <thead>\n",
       "    <tr style=\"text-align: right;\">\n",
       "      <th></th>\n",
       "      <th>love</th>\n",
       "      <th>joy</th>\n",
       "    </tr>\n",
       "  </thead>\n",
       "  <tbody>\n",
       "    <tr>\n",
       "      <th>method</th>\n",
       "      <td>0.690121</td>\n",
       "      <td>0.428233</td>\n",
       "    </tr>\n",
       "    <tr>\n",
       "      <th>function</th>\n",
       "      <td>0.690121</td>\n",
       "      <td>0.428233</td>\n",
       "    </tr>\n",
       "  </tbody>\n",
       "</table>\n",
       "</div>"
      ],
      "text/plain": [
       "              love       joy\n",
       "method    0.690121  0.428233\n",
       "function  0.690121  0.428233"
      ]
     },
     "execution_count": 116,
     "metadata": {},
     "output_type": "execute_result"
    }
   ],
   "source": [
    "df.drop(columns=['shame','hate'])\n"
   ]
  },
  {
   "cell_type": "code",
   "execution_count": 117,
   "id": "460f7704",
   "metadata": {},
   "outputs": [],
   "source": [
    "#df.drop(index = 'function', inplace=True)"
   ]
  },
  {
   "cell_type": "code",
   "execution_count": 118,
   "id": "6cecd669",
   "metadata": {},
   "outputs": [
    {
     "data": {
      "text/html": [
       "<div>\n",
       "<style scoped>\n",
       "    .dataframe tbody tr th:only-of-type {\n",
       "        vertical-align: middle;\n",
       "    }\n",
       "\n",
       "    .dataframe tbody tr th {\n",
       "        vertical-align: top;\n",
       "    }\n",
       "\n",
       "    .dataframe thead th {\n",
       "        text-align: right;\n",
       "    }\n",
       "</style>\n",
       "<table border=\"1\" class=\"dataframe\">\n",
       "  <thead>\n",
       "    <tr style=\"text-align: right;\">\n",
       "      <th></th>\n",
       "      <th>love</th>\n",
       "      <th>hate</th>\n",
       "      <th>shame</th>\n",
       "      <th>joy</th>\n",
       "    </tr>\n",
       "  </thead>\n",
       "  <tbody>\n",
       "    <tr>\n",
       "      <th>count</th>\n",
       "      <td>2.000000</td>\n",
       "      <td>2.00000</td>\n",
       "      <td>2.000000</td>\n",
       "      <td>2.000000</td>\n",
       "    </tr>\n",
       "    <tr>\n",
       "      <th>mean</th>\n",
       "      <td>0.690121</td>\n",
       "      <td>0.68689</td>\n",
       "      <td>1.377012</td>\n",
       "      <td>0.428233</td>\n",
       "    </tr>\n",
       "    <tr>\n",
       "      <th>std</th>\n",
       "      <td>0.000000</td>\n",
       "      <td>0.00000</td>\n",
       "      <td>0.000000</td>\n",
       "      <td>0.000000</td>\n",
       "    </tr>\n",
       "    <tr>\n",
       "      <th>min</th>\n",
       "      <td>0.690121</td>\n",
       "      <td>0.68689</td>\n",
       "      <td>1.377012</td>\n",
       "      <td>0.428233</td>\n",
       "    </tr>\n",
       "    <tr>\n",
       "      <th>25%</th>\n",
       "      <td>0.690121</td>\n",
       "      <td>0.68689</td>\n",
       "      <td>1.377012</td>\n",
       "      <td>0.428233</td>\n",
       "    </tr>\n",
       "    <tr>\n",
       "      <th>50%</th>\n",
       "      <td>0.690121</td>\n",
       "      <td>0.68689</td>\n",
       "      <td>1.377012</td>\n",
       "      <td>0.428233</td>\n",
       "    </tr>\n",
       "    <tr>\n",
       "      <th>75%</th>\n",
       "      <td>0.690121</td>\n",
       "      <td>0.68689</td>\n",
       "      <td>1.377012</td>\n",
       "      <td>0.428233</td>\n",
       "    </tr>\n",
       "    <tr>\n",
       "      <th>max</th>\n",
       "      <td>0.690121</td>\n",
       "      <td>0.68689</td>\n",
       "      <td>1.377012</td>\n",
       "      <td>0.428233</td>\n",
       "    </tr>\n",
       "  </tbody>\n",
       "</table>\n",
       "</div>"
      ],
      "text/plain": [
       "           love     hate     shame       joy\n",
       "count  2.000000  2.00000  2.000000  2.000000\n",
       "mean   0.690121  0.68689  1.377012  0.428233\n",
       "std    0.000000  0.00000  0.000000  0.000000\n",
       "min    0.690121  0.68689  1.377012  0.428233\n",
       "25%    0.690121  0.68689  1.377012  0.428233\n",
       "50%    0.690121  0.68689  1.377012  0.428233\n",
       "75%    0.690121  0.68689  1.377012  0.428233\n",
       "max    0.690121  0.68689  1.377012  0.428233"
      ]
     },
     "execution_count": 118,
     "metadata": {},
     "output_type": "execute_result"
    }
   ],
   "source": [
    "df.describe()"
   ]
  },
  {
   "cell_type": "code",
   "execution_count": 119,
   "id": "5cf6ac75",
   "metadata": {},
   "outputs": [],
   "source": [
    "df.loc['function'] = df_func\n"
   ]
  },
  {
   "cell_type": "code",
   "execution_count": 128,
   "id": "813c3bd9",
   "metadata": {},
   "outputs": [
    {
     "name": "stdout",
     "output_type": "stream",
     "text": [
      "(2, 4)\n",
      "\n",
      "              love     hate     shame       joy\n",
      "method    0.690121  0.68689  1.377012  0.428233\n",
      "function  0.690121  0.68689  1.377012  0.428233\n"
     ]
    }
   ],
   "source": [
    "print(df.shape,df,sep='\\n\\n')"
   ]
  },
  {
   "cell_type": "code",
   "execution_count": 130,
   "id": "2bf04562",
   "metadata": {},
   "outputs": [
    {
     "data": {
      "text/html": [
       "<div>\n",
       "<style scoped>\n",
       "    .dataframe tbody tr th:only-of-type {\n",
       "        vertical-align: middle;\n",
       "    }\n",
       "\n",
       "    .dataframe tbody tr th {\n",
       "        vertical-align: top;\n",
       "    }\n",
       "\n",
       "    .dataframe thead th {\n",
       "        text-align: right;\n",
       "    }\n",
       "</style>\n",
       "<table border=\"1\" class=\"dataframe\">\n",
       "  <thead>\n",
       "    <tr style=\"text-align: right;\">\n",
       "      <th></th>\n",
       "      <th>love</th>\n",
       "      <th>hate</th>\n",
       "      <th>shame</th>\n",
       "      <th>joy</th>\n",
       "    </tr>\n",
       "  </thead>\n",
       "  <tbody>\n",
       "    <tr>\n",
       "      <th>method</th>\n",
       "      <td>0.690121</td>\n",
       "      <td>0.686890</td>\n",
       "      <td>1.377012</td>\n",
       "      <td>0.428233</td>\n",
       "    </tr>\n",
       "    <tr>\n",
       "      <th>function</th>\n",
       "      <td>0.690121</td>\n",
       "      <td>0.686890</td>\n",
       "      <td>1.377012</td>\n",
       "      <td>0.428233</td>\n",
       "    </tr>\n",
       "    <tr>\n",
       "      <th>new</th>\n",
       "      <td>1.831936</td>\n",
       "      <td>0.003017</td>\n",
       "      <td>-0.076023</td>\n",
       "      <td>0.003958</td>\n",
       "    </tr>\n",
       "  </tbody>\n",
       "</table>\n",
       "</div>"
      ],
      "text/plain": [
       "              love      hate     shame       joy\n",
       "method    0.690121  0.686890  1.377012  0.428233\n",
       "function  0.690121  0.686890  1.377012  0.428233\n",
       "new       1.831936  0.003017 -0.076023  0.003958"
      ]
     },
     "execution_count": 130,
     "metadata": {},
     "output_type": "execute_result"
    }
   ],
   "source": [
    "df.loc['new'] = randn(4)\n",
    "df"
   ]
  },
  {
   "cell_type": "code",
   "execution_count": 131,
   "id": "344eaf94",
   "metadata": {},
   "outputs": [
    {
     "data": {
      "text/html": [
       "<div>\n",
       "<style scoped>\n",
       "    .dataframe tbody tr th:only-of-type {\n",
       "        vertical-align: middle;\n",
       "    }\n",
       "\n",
       "    .dataframe tbody tr th {\n",
       "        vertical-align: top;\n",
       "    }\n",
       "\n",
       "    .dataframe thead th {\n",
       "        text-align: right;\n",
       "    }\n",
       "</style>\n",
       "<table border=\"1\" class=\"dataframe\">\n",
       "  <thead>\n",
       "    <tr style=\"text-align: right;\">\n",
       "      <th></th>\n",
       "      <th>love</th>\n",
       "      <th>hate</th>\n",
       "      <th>shame</th>\n",
       "      <th>joy</th>\n",
       "    </tr>\n",
       "  </thead>\n",
       "  <tbody>\n",
       "    <tr>\n",
       "      <th>method</th>\n",
       "      <td>0.690121</td>\n",
       "      <td>0.68689</td>\n",
       "      <td>1.377012</td>\n",
       "      <td>NaN</td>\n",
       "    </tr>\n",
       "    <tr>\n",
       "      <th>function</th>\n",
       "      <td>0.690121</td>\n",
       "      <td>0.68689</td>\n",
       "      <td>1.377012</td>\n",
       "      <td>NaN</td>\n",
       "    </tr>\n",
       "    <tr>\n",
       "      <th>new</th>\n",
       "      <td>1.831936</td>\n",
       "      <td>NaN</td>\n",
       "      <td>NaN</td>\n",
       "      <td>NaN</td>\n",
       "    </tr>\n",
       "  </tbody>\n",
       "</table>\n",
       "</div>"
      ],
      "text/plain": [
       "              love     hate     shame  joy\n",
       "method    0.690121  0.68689  1.377012  NaN\n",
       "function  0.690121  0.68689  1.377012  NaN\n",
       "new       1.831936      NaN       NaN  NaN"
      ]
     },
     "execution_count": 131,
     "metadata": {},
     "output_type": "execute_result"
    }
   ],
   "source": [
    "df[df>0.67]"
   ]
  },
  {
   "cell_type": "code",
   "execution_count": null,
   "id": "f867bf06",
   "metadata": {},
   "outputs": [],
   "source": []
  },
  {
   "cell_type": "code",
   "execution_count": null,
   "id": "54834345",
   "metadata": {},
   "outputs": [],
   "source": []
  }
 ],
 "metadata": {
  "kernelspec": {
   "display_name": "Python 3 (ipykernel)",
   "language": "python",
   "name": "python3"
  },
  "language_info": {
   "codemirror_mode": {
    "name": "ipython",
    "version": 3
   },
   "file_extension": ".py",
   "mimetype": "text/x-python",
   "name": "python",
   "nbconvert_exporter": "python",
   "pygments_lexer": "ipython3",
   "version": "3.11.5"
  }
 },
 "nbformat": 4,
 "nbformat_minor": 5
}
